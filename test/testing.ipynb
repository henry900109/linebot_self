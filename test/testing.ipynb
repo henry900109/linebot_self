{
 "cells": [
  {
   "cell_type": "code",
   "execution_count": 2,
   "metadata": {},
   "outputs": [
    {
     "data": {
      "text/plain": [
       "'hey!'"
      ]
     },
     "execution_count": 2,
     "metadata": {},
     "output_type": "execute_result"
    }
   ],
   "source": [
    "import random\n",
    "hello_dict = { 0 : \"hello!\", 1 : \"I'm here\", 2 : \"hey!\" ,3 : \"what's up?\" }\n",
    "Goodbye_dict = { 0 : \"Goodbye!\", 1 : \"Nice to see you\", 2 : \"ok!\" ,3 : \"Well..\" }\n",
    "num = random.randrange(4)\n",
    "hello_dict[num]"
   ]
  },
  {
   "cell_type": "code",
   "execution_count": 35,
   "metadata": {},
   "outputs": [
    {
     "data": {
      "text/plain": [
       "True"
      ]
     },
     "execution_count": 35,
     "metadata": {},
     "output_type": "execute_result"
    }
   ],
   "source": [
    "import json\n",
    "a = \"www\"\n",
    "c = \"qqqq\"\n",
    "# Opening JSON file\n",
    "with open(r'..\\docs\\user.json') as f:\n",
    "    data = json.load(f)\n",
    "\"U39ef08913a1aa5a8e5f100399fe9fd2c\"in data\n",
    "# data[a] = c\n",
    "# print(data)\n",
    "# with open(r'D:\\linebot_self\\docs\\user.json', 'w') as f:\n",
    "#     json.dump(data, f,ensure_ascii=False)\n"
   ]
  },
  {
   "cell_type": "code",
   "execution_count": 38,
   "metadata": {},
   "outputs": [
    {
     "name": "stdout",
     "output_type": "stream",
     "text": [
      "板橋區天氣\n",
      "2023-03-20 00:00:00\n",
      "天氣現象:多雲\n",
      "體感溫度:19\n",
      "溫度:19\n",
      "6小時降雨機率:20%\n",
      "\n",
      "2023-03-20 03:00:00\n",
      "天氣現象:多雲\n",
      "體感溫度:20\n",
      "溫度:19\n",
      "6小時降雨機率:20%\n",
      "\n",
      "2023-03-20 06:00:00\n",
      "天氣現象:多雲\n",
      "體感溫度:20\n",
      "溫度:18\n",
      "6小時降雨機率:0%\n",
      "\n",
      "2023-03-20 09:00:00\n",
      "天氣現象:多雲\n",
      "體感溫度:23\n",
      "溫度:21\n",
      "6小時降雨機率:0%\n",
      "\n",
      "2023-03-20 12:00:00\n",
      "天氣現象:多雲\n",
      "體感溫度:28\n",
      "溫度:26\n",
      "6小時降雨機率:30%\n",
      "\n",
      "2023-03-20 15:00:00\n",
      "天氣現象:短暫雨\n",
      "體感溫度:27\n",
      "溫度:26\n",
      "6小時降雨機率:30%\n",
      "\n",
      "2023-03-20 18:00:00\n",
      "天氣現象:晴\n",
      "體感溫度:25\n",
      "溫度:23\n",
      "6小時降雨機率:0%\n",
      "\n",
      "2023-03-20 21:00:00\n",
      "天氣現象:晴\n",
      "體感溫度:24\n",
      "溫度:22\n",
      "6小時降雨機率:0%\n",
      "\n",
      "\n"
     ]
    }
   ],
   "source": [
    "import requests\n",
    "from datetime import datetime,timedelta\n",
    "def weather(WEATHER_API_KEY,user):\n",
    "\n",
    "    now = datetime.now().date()\n",
    "    weather_apikey = WEATHER_API_KEY\n",
    "    weather_apikey = 'CWB-B64CD8B7-02BF-441E-B253-C654F478E513'\n",
    "    dataid = 'F-D0047-069' #新北市\n",
    "    element_name = \"T,Wx,PoP6h,AT\"\n",
    "\n",
    "    url = f'https://opendata.cwb.gov.tw/api/v1/rest/datastore/{dataid}?Authorization={weather_apikey}&locationName={user[2:5]}&elementName={element_name}'\n",
    "    response = requests.get(url)\n",
    "    data = response.json()\n",
    "\n",
    "    date_code = {'今天':now,'明天':now + timedelta(days=1)}\n",
    "    \n",
    "    extra = data['records']['locations'][0]['location'][0]['weatherElement']\n",
    "\n",
    "    relpy_text = user[2:] +\"\\n\"\n",
    "\n",
    "    for j in range(len(extra[0]['time'])):\n",
    "        # 讀取資料第一筆時間\n",
    "        moment = datetime.strptime(extra[0]['time'][j]['startTime'], '%Y-%m-%d %H:%M:%S')\n",
    "        \n",
    "        # 判斷所需的日期天氣資料\n",
    "\n",
    "        if str(date_code[user[:2]]) in str(moment):\n",
    "\n",
    "            relpy_text+= str(moment) \n",
    "            relpy_text+='\\n'\n",
    "            for i in range(len(extra)-1):\n",
    "                description = extra[i]['description']\n",
    "                try:\n",
    "                    wx = extra[i]['time'][j]['elementValue'][0]['value']\n",
    "                except IndexError:\n",
    "                    wx = '尚未預測'\n",
    "                relpy_text+=description+\":\"+ wx \n",
    "                relpy_text+='\\n'\n",
    "\n",
    "            try:\n",
    "                relpy_text+=extra[-1]['description']+\":\"+extra[-1]['time'][j//2]['elementValue'][0]['value']+\"%\"\n",
    "                relpy_text+='\\n'\n",
    "                relpy_text+='\\n'\n",
    "            except IndexError:\n",
    "                relpy_text+='N\\A'\n",
    "                \n",
    "    return relpy_text\n",
    "print(weather(1,\"明天板橋區天氣\"))"
   ]
  },
  {
   "cell_type": "code",
   "execution_count": 36,
   "metadata": {},
   "outputs": [
    {
     "data": {
      "text/plain": [
       "datetime.date(2023, 3, 19)"
      ]
     },
     "execution_count": 36,
     "metadata": {},
     "output_type": "execute_result"
    }
   ],
   "source": [
    "now = datetime.now().date()\n",
    "now"
   ]
  }
 ],
 "metadata": {
  "kernelspec": {
   "display_name": "base",
   "language": "python",
   "name": "python3"
  },
  "language_info": {
   "codemirror_mode": {
    "name": "ipython",
    "version": 3
   },
   "file_extension": ".py",
   "mimetype": "text/x-python",
   "name": "python",
   "nbconvert_exporter": "python",
   "pygments_lexer": "ipython3",
   "version": "3.9.12"
  },
  "orig_nbformat": 4
 },
 "nbformat": 4,
 "nbformat_minor": 2
}

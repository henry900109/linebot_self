{
 "cells": [
  {
   "cell_type": "code",
   "execution_count": 2,
   "metadata": {},
   "outputs": [
    {
     "data": {
      "text/plain": [
       "'hey!'"
      ]
     },
     "execution_count": 2,
     "metadata": {},
     "output_type": "execute_result"
    }
   ],
   "source": [
    "import random\n",
    "hello_dict = { 0 : \"hello!\", 1 : \"I'm here\", 2 : \"hey!\" ,3 : \"what's up?\" }\n",
    "Goodbye_dict = { 0 : \"Goodbye!\", 1 : \"Nice to see you\", 2 : \"ok!\" ,3 : \"Well..\" }\n",
    "num = random.randrange(4)\n",
    "hello_dict[num]"
   ]
  },
  {
   "cell_type": "code",
   "execution_count": 35,
   "metadata": {},
   "outputs": [
    {
     "data": {
      "text/plain": [
       "True"
      ]
     },
     "execution_count": 35,
     "metadata": {},
     "output_type": "execute_result"
    }
   ],
   "source": [
    "import json\n",
    "a = \"www\"\n",
    "c = \"qqqq\"\n",
    "# Opening JSON file\n",
    "with open(r'..\\docs\\user.json') as f:\n",
    "    data = json.load(f)\n",
    "\"U39ef08913a1aa5a8e5f100399fe9fd2c\"in data\n",
    "# data[a] = c\n",
    "# print(data)\n",
    "# with open(r'D:\\linebot_self\\docs\\user.json', 'w') as f:\n",
    "#     json.dump(data, f,ensure_ascii=False)\n"
   ]
  },
  {
   "cell_type": "code",
   "execution_count": 38,
   "metadata": {},
   "outputs": [
    {
     "name": "stdout",
     "output_type": "stream",
     "text": [
      "板橋區天氣\n",
      "2023-03-20 00:00:00\n",
      "天氣現象:多雲\n",
      "體感溫度:19\n",
      "溫度:19\n",
      "6小時降雨機率:20%\n",
      "\n",
      "2023-03-20 03:00:00\n",
      "天氣現象:多雲\n",
      "體感溫度:20\n",
      "溫度:19\n",
      "6小時降雨機率:20%\n",
      "\n",
      "2023-03-20 06:00:00\n",
      "天氣現象:多雲\n",
      "體感溫度:20\n",
      "溫度:18\n",
      "6小時降雨機率:0%\n",
      "\n",
      "2023-03-20 09:00:00\n",
      "天氣現象:多雲\n",
      "體感溫度:23\n",
      "溫度:21\n",
      "6小時降雨機率:0%\n",
      "\n",
      "2023-03-20 12:00:00\n",
      "天氣現象:多雲\n",
      "體感溫度:28\n",
      "溫度:26\n",
      "6小時降雨機率:30%\n",
      "\n",
      "2023-03-20 15:00:00\n",
      "天氣現象:短暫雨\n",
      "體感溫度:27\n",
      "溫度:26\n",
      "6小時降雨機率:30%\n",
      "\n",
      "2023-03-20 18:00:00\n",
      "天氣現象:晴\n",
      "體感溫度:25\n",
      "溫度:23\n",
      "6小時降雨機率:0%\n",
      "\n",
      "2023-03-20 21:00:00\n",
      "天氣現象:晴\n",
      "體感溫度:24\n",
      "溫度:22\n",
      "6小時降雨機率:0%\n",
      "\n",
      "\n"
     ]
    }
   ],
   "source": [
    "import requests\n",
    "from datetime import datetime,timedelta\n",
    "def weather(WEATHER_API_KEY,user):\n",
    "\n",
    "    now = datetime.now().date()\n",
    "    weather_apikey = WEATHER_API_KEY\n",
    "    weather_apikey = 'CWB-B64CD8B7-02BF-441E-B253-C654F478E513'\n",
    "    dataid = 'F-D0047-069' #新北市\n",
    "    element_name = \"T,Wx,PoP6h,AT\"\n",
    "\n",
    "    url = f'https://opendata.cwb.gov.tw/api/v1/rest/datastore/{dataid}?Authorization={weather_apikey}&locationName={user[2:5]}&elementName={element_name}'\n",
    "    response = requests.get(url)\n",
    "    data = response.json()\n",
    "\n",
    "    date_code = {'今天':now,'明天':now + timedelta(days=1)}\n",
    "    \n",
    "    extra = data['records']['locations'][0]['location'][0]['weatherElement']\n",
    "\n",
    "    relpy_text = user[2:] +\"\\n\"\n",
    "\n",
    "    for j in range(len(extra[0]['time'])):\n",
    "        # 讀取資料第一筆時間\n",
    "        moment = datetime.strptime(extra[0]['time'][j]['startTime'], '%Y-%m-%d %H:%M:%S')\n",
    "        \n",
    "        # 判斷所需的日期天氣資料\n",
    "\n",
    "        if str(date_code[user[:2]]) in str(moment):\n",
    "\n",
    "            relpy_text+= str(moment) \n",
    "            relpy_text+='\\n'\n",
    "            for i in range(len(extra)-1):\n",
    "                description = extra[i]['description']\n",
    "                try:\n",
    "                    wx = extra[i]['time'][j]['elementValue'][0]['value']\n",
    "                except IndexError:\n",
    "                    wx = '尚未預測'\n",
    "                relpy_text+=description+\":\"+ wx \n",
    "                relpy_text+='\\n'\n",
    "\n",
    "            try:\n",
    "                relpy_text+=extra[-1]['description']+\":\"+extra[-1]['time'][j//2]['elementValue'][0]['value']+\"%\"\n",
    "                relpy_text+='\\n'\n",
    "                relpy_text+='\\n'\n",
    "            except IndexError:\n",
    "                relpy_text+='N\\A'\n",
    "                \n",
    "    return relpy_text\n",
    "print(weather(1,\"明天板橋區天氣\"))"
   ]
  },
  {
   "cell_type": "code",
   "execution_count": 46,
   "metadata": {},
   "outputs": [
    {
     "data": {
      "text/plain": [
       "'明天板橋區'"
      ]
     },
     "execution_count": 46,
     "metadata": {},
     "output_type": "execute_result"
    }
   ],
   "source": [
    "a = \"明天板橋區天氣\\n\\n\"\n",
    "a[:-4]"
   ]
  },
  {
   "cell_type": "code",
   "execution_count": 43,
   "metadata": {},
   "outputs": [
    {
     "name": "stdout",
     "output_type": "stream",
     "text": [
      "\n",
      "20230319\n",
      "台北市中正區降雨機率為 0.0%\n",
      "最高溫: 23 度\n",
      "最低溫: 21度\n"
     ]
    }
   ],
   "source": [
    "import time\n",
    "import js2py\n",
    "import pandas as pd\n",
    "def now_weather(name):\n",
    "  timestr = time.strftime(\"%Y%m%d%H\")\n",
    "  url = 'https://www.cwb.gov.tw/Data/js/GT/TableData_GT_T_63.js?T='+timestr+'-4&_=1657432140292'\n",
    "  headers = {\"User-Agent\" : \"Mozilla/5.0 (Windows NT 10.0; Win64; x64) AppleWebKit/537.36 (KHTML, like Gecko) Chrome/101.0.4951.64 Safari/537.36 Edg/101.0.1210.47\"}\n",
    "  download = requests.get(url,headers = headers)\n",
    "  download = download.text\n",
    "  cityID = [6301200,6301100,6300600,6300400,6300100,6301000,6300700,6300500,6300300,6300200,6300900,6300800]\n",
    "  cityname = {\"萬華區\":6,\"中正\": 7,\"南港\" : 10,\"文山\": 11}\n",
    "  aid = cityname[name]\n",
    "  text = js2py.eval_js(download)\n",
    "  C_AT=[]\n",
    "  C_T=[]\n",
    "  RH=[]\n",
    "  Rain=[]\n",
    "  Sunrise=[]\n",
    "  Sunset=[]\n",
    "  for item in cityID:\n",
    "    C_AT.append(text[item][\"C_AT\"])\n",
    "    C_T.append(text[item][\"C_T\"])\n",
    "    Rain.append(text[item][\"Rain\"])\n",
    "    RH.append(text[item][\"RH\"])\n",
    "    Sunrise.append(text[item][\"Sunrise\"])\n",
    "    Sunset.append(text[item][\"Sunset\"])\n",
    "    \n",
    "\n",
    "  output=[cityID,C_AT,C_T,RH,Rain,Sunrise,Sunset]\n",
    "  df=pd.DataFrame(output)\n",
    "  dt=df.T\n",
    "  dt.columns=['Cityid','C_AT','C_T','RH','Rain','Sunrise','Sunset']\n",
    "  timestr = time.strftime(\"%Y%m%d\")\n",
    "  return '\\n'+timestr + '\\n'+name+'降雨機率為 ' + dt['Rain'][aid]  +\"%\\n最高溫: \"+ dt['C_AT'][aid] + \" 度\\n最低溫: \" + dt['C_T'][aid] +'度'\n",
    "# 6300700 萬華 6\n",
    "#  63000500 中正 7\n",
    "#6300900 南港 10\n",
    "#6300800 文山 11\n",
    "print(now_weather())"
   ]
  },
  {
   "cell_type": "code",
   "execution_count": 2,
   "metadata": {},
   "outputs": [
    {
     "name": "stdout",
     "output_type": "stream",
     "text": [
      "None\n"
     ]
    }
   ],
   "source": [
    "import requests\n",
    "import os\n",
    "def notify(message):\n",
    "    \n",
    "    # LINE Notify 權杖\n",
    "    token = os.getenv(\"line_notify_token\")\n",
    "\n",
    "    # HTTP 標頭參數與資料\n",
    "    token = 'q4AiBIuqOz1zhUoTUOnzJEDvjObU5zq4evxx1Shxqm1'\n",
    "    headers = { \"Authorization\": \"Bearer \" + token }\n",
    "    data = {'message':'\\n'+message}\n",
    "\n",
    "    # 以 requests 發送 POST 請求\n",
    "    requests.post(\"https://notify-api.line.me/api/notify\",headers = headers, data = data)\n",
    "    # headers = headers, data = data, files = files)\n",
    "if __name__ == '__main__':\n",
    "    print(notify(\"我是卓子揚\"))"
   ]
  },
  {
   "cell_type": "code",
   "execution_count": 11,
   "metadata": {},
   "outputs": [
    {
     "data": {
      "text/plain": [
       "{\"items\": [{\"action\": {\"data\": \"C\\u5b9c\\u862d\\u7e23\", \"label\": \"\\u5b9c\\u862d\\u7e23\", \"type\": \"postback\"}, \"type\": \"action\"}, {\"action\": {\"data\": \"C\\u82b1\\u84ee\\u7e23\", \"label\": \"\\u82b1\\u84ee\\u7e23\", \"type\": \"postback\"}, \"type\": \"action\"}, {\"action\": {\"data\": \"C\\u81fa\\u6771\\u7e23\", \"label\": \"\\u81fa\\u6771\\u7e23\", \"type\": \"postback\"}, \"type\": \"action\"}, {\"action\": {\"data\": \"C\\u6f8e\\u6e56\\u7e23\", \"label\": \"\\u6f8e\\u6e56\\u7e23\", \"type\": \"postback\"}, \"type\": \"action\"}, {\"action\": {\"data\": \"C\\u91d1\\u9580\\u7e23\", \"label\": \"\\u91d1\\u9580\\u7e23\", \"type\": \"postback\"}, \"type\": \"action\"}, {\"action\": {\"data\": \"C\\u9023\\u6c5f\\u7e23\", \"label\": \"\\u9023\\u6c5f\\u7e23\", \"type\": \"postback\"}, \"type\": \"action\"}, {\"action\": {\"data\": \"C\\u81fa\\u5317\\u5e02\", \"label\": \"\\u81fa\\u5317\\u5e02\", \"type\": \"postback\"}, \"type\": \"action\"}, {\"action\": {\"data\": \"C\\u65b0\\u5317\\u5e02\", \"label\": \"\\u65b0\\u5317\\u5e02\", \"type\": \"postback\"}, \"type\": \"action\"}, {\"action\": {\"data\": \"C\\u6843\\u5712\\u5e02\", \"label\": \"\\u6843\\u5712\\u5e02\", \"type\": \"postback\"}, \"type\": \"action\"}, {\"action\": {\"data\": \"C\\u81fa\\u4e2d\\u5e02\", \"label\": \"\\u81fa\\u4e2d\\u5e02\", \"type\": \"postback\"}, \"type\": \"action\"}, {\"action\": {\"data\": \"C\\u81fa\\u5357\\u5e02\", \"label\": \"\\u81fa\\u5357\\u5e02\", \"type\": \"postback\"}, \"type\": \"action\"}, {\"action\": {\"data\": \"C\\u9ad8\\u96c4\\u5e02\", \"label\": \"\\u9ad8\\u96c4\\u5e02\", \"type\": \"postback\"}, \"type\": \"action\"}, {\"action\": {\"data\": \"C\\u57fa\\u9686\\u5e02\", \"label\": \"\\u57fa\\u9686\\u5e02\", \"type\": \"postback\"}, \"type\": \"action\"}, {\"action\": {\"data\": \"C\\u65b0\\u7af9\\u7e23\", \"label\": \"\\u65b0\\u7af9\\u7e23\", \"type\": \"postback\"}, \"type\": \"action\"}, {\"action\": {\"data\": \"C\\u65b0\\u7af9\\u5e02\", \"label\": \"\\u65b0\\u7af9\\u5e02\", \"type\": \"postback\"}, \"type\": \"action\"}, {\"action\": {\"data\": \"C\\u82d7\\u6817\\u7e23\", \"label\": \"\\u82d7\\u6817\\u7e23\", \"type\": \"postback\"}, \"type\": \"action\"}, {\"action\": {\"data\": \"C\\u5f70\\u5316\\u7e23\", \"label\": \"\\u5f70\\u5316\\u7e23\", \"type\": \"postback\"}, \"type\": \"action\"}, {\"action\": {\"data\": \"C\\u5357\\u6295\\u7e23\", \"label\": \"\\u5357\\u6295\\u7e23\", \"type\": \"postback\"}, \"type\": \"action\"}, {\"action\": {\"data\": \"C\\u96f2\\u6797\\u7e23\", \"label\": \"\\u96f2\\u6797\\u7e23\", \"type\": \"postback\"}, \"type\": \"action\"}, {\"action\": {\"data\": \"C\\u5609\\u7fa9\\u7e23\", \"label\": \"\\u5609\\u7fa9\\u7e23\", \"type\": \"postback\"}, \"type\": \"action\"}, {\"action\": {\"data\": \"C\\u5609\\u7fa9\\u5e02\", \"label\": \"\\u5609\\u7fa9\\u5e02\", \"type\": \"postback\"}, \"type\": \"action\"}, {\"action\": {\"data\": \"C\\u5c4f\\u6771\\u7e23\", \"label\": \"\\u5c4f\\u6771\\u7e23\", \"type\": \"postback\"}, \"type\": \"action\"}]}"
      ]
     },
     "execution_count": 11,
     "metadata": {},
     "output_type": "execute_result"
    }
   ],
   "source": [
    "from linebot.models import QuickReply, QuickReplyButton,PostbackAction\n",
    "location = [\"宜蘭縣\",\"花蓮縣\",\"臺東縣\",\"澎湖縣\",\"金門縣\",\"連江縣\",\"臺北市\",\"新北市\",\"桃園市\",\"臺中市\",\"臺南市\",\"高雄市\",\"基隆市\",\"新竹縣\",\"新竹市\",\"苗栗縣\",\"彰化縣\",\"南投縣\",\"雲林縣\",\"嘉義縣\",\"嘉義市\",\"屏東縣\"]\n",
    "item = []\n",
    "count = 0\n",
    "for items in location:\n",
    "    count+=1\n",
    "    item.append(QuickReplyButton( action=PostbackAction ( label=items, data=\"C\" + items ) ))\n",
    "quick_reply=QuickReply(item)\n",
    "quick_reply"
   ]
  },
  {
   "cell_type": "code",
   "execution_count": 12,
   "metadata": {},
   "outputs": [
    {
     "data": {
      "text/plain": [
       "22"
      ]
     },
     "execution_count": 12,
     "metadata": {},
     "output_type": "execute_result"
    }
   ],
   "source": [
    "count"
   ]
  },
  {
   "cell_type": "code",
   "execution_count": null,
   "metadata": {},
   "outputs": [],
   "source": []
  }
 ],
 "metadata": {
  "kernelspec": {
   "display_name": "base",
   "language": "python",
   "name": "python3"
  },
  "language_info": {
   "codemirror_mode": {
    "name": "ipython",
    "version": 3
   },
   "file_extension": ".py",
   "mimetype": "text/x-python",
   "name": "python",
   "nbconvert_exporter": "python",
   "pygments_lexer": "ipython3",
   "version": "3.9.12"
  },
  "orig_nbformat": 4
 },
 "nbformat": 4,
 "nbformat_minor": 2
}

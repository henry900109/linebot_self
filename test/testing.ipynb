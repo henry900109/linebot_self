{
 "cells": [
  {
   "cell_type": "code",
   "execution_count": 2,
   "metadata": {},
   "outputs": [
    {
     "data": {
      "text/plain": [
       "'hey!'"
      ]
     },
     "execution_count": 2,
     "metadata": {},
     "output_type": "execute_result"
    }
   ],
   "source": [
    "import random\n",
    "hello_dict = { 0 : \"hello!\", 1 : \"I'm here\", 2 : \"hey!\" ,3 : \"what's up?\" }\n",
    "Goodbye_dict = { 0 : \"Goodbye!\", 1 : \"Nice to see you\", 2 : \"ok!\" ,3 : \"Well..\" }\n",
    "num = random.randrange(4)\n",
    "hello_dict[num]"
   ]
  }
 ],
 "metadata": {
  "kernelspec": {
   "display_name": "base",
   "language": "python",
   "name": "python3"
  },
  "language_info": {
   "codemirror_mode": {
    "name": "ipython",
    "version": 3
   },
   "file_extension": ".py",
   "mimetype": "text/x-python",
   "name": "python",
   "nbconvert_exporter": "python",
   "pygments_lexer": "ipython3",
   "version": "3.9.12"
  },
  "orig_nbformat": 4
 },
 "nbformat": 4,
 "nbformat_minor": 2
}

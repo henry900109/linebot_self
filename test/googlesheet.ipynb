{
 "cells": [
  {
   "cell_type": "code",
   "execution_count": 16,
   "metadata": {},
   "outputs": [
    {
     "name": "stdout",
     "output_type": "stream",
     "text": [
      "['game', 'like']\n"
     ]
    }
   ],
   "source": [
    "import gspread\n",
    "from oauth2client.service_account import ServiceAccountCredentials\n",
    "\n",
    "# 設置試算表憑證的路徑\n",
    "credential_path = r'D:\\linebot_self\\docs\\optimal-signer-334903-d972d0dbeb67.json'\n",
    "\n",
    "# 設置要讀取的試算表名稱\n",
    "spreadsheet_name = 'linebot'\n",
    "\n",
    "# 設置要讀取的工作表名稱\n",
    "worksheet_name = 'test'\n",
    "\n",
    "# 建立憑證物件\n",
    "credentials = ServiceAccountCredentials.from_json_keyfile_name(credential_path)\n",
    "\n",
    "# 連線到 Google Sheets API\n",
    "gc = gspread.authorize(credentials)\n",
    "\n",
    "\n",
    "\"\"\"\n",
    "# 建立新的工作表\n",
    "new_worksheet_name = \"Uc3e869190fa11d67f2a1ff4b65070e4f\"\n",
    "worksheet = sh.add_worksheet(title=new_worksheet_name, rows=10, cols=10)\n",
    "\n",
    "# 寫入資料\n",
    "cell_list = worksheet.range('A1:B2')\n",
    "cell_list[0].value = 'Hello'\n",
    "cell_list[1].value = 'World'\n",
    "cell_list[2].value = 'foo'\n",
    "cell_list[3].value = 'bar'\n",
    "worksheet.update_cells(cell_list)\n",
    "\"\"\"\n",
    "\n",
    "# 開啟指定的試算表\n",
    "sh = gc.open(spreadsheet_name)\n",
    "\n",
    "# 開啟指定的工作表\n",
    "worksheet = sh.worksheet(worksheet_name)\n",
    "\n",
    "\n",
    "\n",
    "# worksheet.update_cell(1, 1, \"Hello, World!\")\n",
    "# 更新多個儲存格的值\n",
    "datas = [\n",
    "    [\"game\", \"like\"]\n",
    "]\n",
    "\n",
    "worksheet.update(\"A1:B1\", datas)\n",
    "# 輸出數據\n",
    "\n",
    "\n",
    "data = worksheet.get_all_values()\n",
    "print(data[0])\n"
   ]
  },
  {
   "cell_type": "code",
   "execution_count": 11,
   "metadata": {},
   "outputs": [
    {
     "name": "stdout",
     "output_type": "stream",
     "text": [
      "['game']\n"
     ]
    }
   ],
   "source": [
    "import gspread\n",
    "from oauth2client.service_account import ServiceAccountCredentials\n",
    "\n",
    "# 設置試算表憑證的路徑\n",
    "credential_path = r'D:\\linebot_self\\docs\\optimal-signer-334903-d972d0dbeb67.json'\n",
    "\n",
    "# 設置要讀取的試算表名稱\n",
    "spreadsheet_name = 'linebot'\n",
    "\n",
    "\n",
    "# 建立憑證物件\n",
    "credentials = ServiceAccountCredentials.from_json_keyfile_name(credential_path)\n",
    "\n",
    "# 連線到 Google Sheets API\n",
    "gc = gspread.authorize(credentials)\n",
    "sh = gc.open(spreadsheet_name)\n",
    "\n",
    "# 建立新的工作表\n",
    "worksheet_name = \"Uc3e869190fa11d67f2a1ff4b65070e4f\"\n",
    "try:\n",
    "    worksheet = sh.add_worksheet(title=worksheet_name, rows=1000, cols=1000)\n",
    "except:\n",
    "    worksheet = sh.worksheet(worksheet_name)\n",
    "# 寫入資料\n",
    "cell_list = worksheet.range('A1:A6')\n",
    "\n",
    "cell_list[0].value = 'game'\n",
    "cell_list[1].value = 'like'\n",
    "cell_list[2].value = '0'\n",
    "cell_list[3].value = '1'\n",
    "cell_list[4].value = '5'\n",
    "cell_list[5].value = 8\n",
    "worksheet.update_cells(cell_list)\n",
    "\n",
    "data = worksheet.get_all_values()\n",
    "print(data)\n"
   ]
  },
  {
   "cell_type": "code",
   "execution_count": null,
   "metadata": {},
   "outputs": [],
   "source": []
  }
 ],
 "metadata": {
  "kernelspec": {
   "display_name": "base",
   "language": "python",
   "name": "python3"
  },
  "language_info": {
   "codemirror_mode": {
    "name": "ipython",
    "version": 3
   },
   "file_extension": ".py",
   "mimetype": "text/x-python",
   "name": "python",
   "nbconvert_exporter": "python",
   "pygments_lexer": "ipython3",
   "version": "3.9.12"
  },
  "orig_nbformat": 4
 },
 "nbformat": 4,
 "nbformat_minor": 2
}
